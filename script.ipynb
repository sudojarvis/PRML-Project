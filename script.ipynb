{
 "cells": [
  {
   "cell_type": "markdown",
   "metadata": {},
   "source": [
    "## <span style=\"color:red\">  *STROKE PREDICTION* </span>"
   ]
  },
  {
   "cell_type": "markdown",
   "metadata": {},
   "source": [
    "### <span style=\"color:#a13555\">  *PROJECT MEMBER* </span>\n",
    "#### <span style=\"color:#a13555\"> 1. *ASHISH KUMAR (B20EE011)*  </span>\n",
    "#### <span style=\"color:#a13555\"> 2. *KRISHNA MOHAN (B20EE031)* </span>\n",
    "#### <span style=\"color:#a13555\"> 3. *Shailesh Yadav (B20EE062)* </span>"
   ]
  },
  {
   "cell_type": "markdown",
   "metadata": {},
   "source": [
    "##### *BRIEF OVERVIEW*\n",
    "\n",
    "\n",
    "\n",
    "*<span style=\"text-transform: uppercase;\">Stroke is the 2nd leading cause of death globally, responsible for approximately 11% of\n",
    "total deaths. predict whether a patient is likely to get a\n",
    "stroke based on the input parameters like gender, age, various diseases, and smoking\n",
    "status.</span>*\n",
    "</BR>"
   ]
  },
  {
   "cell_type": "markdown",
   "metadata": {},
   "source": [
    "#### *CONVERTING DATA INTO READABLE FORMAT*"
   ]
  },
  {
   "cell_type": "code",
   "execution_count": 90,
   "metadata": {},
   "outputs": [],
   "source": [
    "import numpy as np\n",
    "\n",
    "\n",
    "import pandas as pd\n",
    "import matplotlib.pyplot as plt\n",
    "import seaborn as sns\n",
    "import warnings\n",
    "warnings.filterwarnings('ignore')"
   ]
  },
  {
   "cell_type": "code",
   "execution_count": 91,
   "metadata": {},
   "outputs": [
    {
     "data": {
      "text/html": [
       "<div>\n",
       "<style scoped>\n",
       "    .dataframe tbody tr th:only-of-type {\n",
       "        vertical-align: middle;\n",
       "    }\n",
       "\n",
       "    .dataframe tbody tr th {\n",
       "        vertical-align: top;\n",
       "    }\n",
       "\n",
       "    .dataframe thead th {\n",
       "        text-align: right;\n",
       "    }\n",
       "</style>\n",
       "<table border=\"1\" class=\"dataframe\">\n",
       "  <thead>\n",
       "    <tr style=\"text-align: right;\">\n",
       "      <th></th>\n",
       "      <th>id</th>\n",
       "      <th>gender</th>\n",
       "      <th>age</th>\n",
       "      <th>hypertension</th>\n",
       "      <th>heart_disease</th>\n",
       "      <th>ever_married</th>\n",
       "      <th>work_type</th>\n",
       "      <th>Residence_type</th>\n",
       "      <th>avg_glucose_level</th>\n",
       "      <th>bmi</th>\n",
       "      <th>smoking_status</th>\n",
       "      <th>stroke</th>\n",
       "    </tr>\n",
       "  </thead>\n",
       "  <tbody>\n",
       "    <tr>\n",
       "      <th>0</th>\n",
       "      <td>9046</td>\n",
       "      <td>Male</td>\n",
       "      <td>67.0</td>\n",
       "      <td>0</td>\n",
       "      <td>1</td>\n",
       "      <td>Yes</td>\n",
       "      <td>Private</td>\n",
       "      <td>Urban</td>\n",
       "      <td>228.69</td>\n",
       "      <td>36.6</td>\n",
       "      <td>formerly smoked</td>\n",
       "      <td>1</td>\n",
       "    </tr>\n",
       "    <tr>\n",
       "      <th>1</th>\n",
       "      <td>51676</td>\n",
       "      <td>Female</td>\n",
       "      <td>61.0</td>\n",
       "      <td>0</td>\n",
       "      <td>0</td>\n",
       "      <td>Yes</td>\n",
       "      <td>Self-employed</td>\n",
       "      <td>Rural</td>\n",
       "      <td>202.21</td>\n",
       "      <td>NaN</td>\n",
       "      <td>never smoked</td>\n",
       "      <td>1</td>\n",
       "    </tr>\n",
       "    <tr>\n",
       "      <th>2</th>\n",
       "      <td>31112</td>\n",
       "      <td>Male</td>\n",
       "      <td>80.0</td>\n",
       "      <td>0</td>\n",
       "      <td>1</td>\n",
       "      <td>Yes</td>\n",
       "      <td>Private</td>\n",
       "      <td>Rural</td>\n",
       "      <td>105.92</td>\n",
       "      <td>32.5</td>\n",
       "      <td>never smoked</td>\n",
       "      <td>1</td>\n",
       "    </tr>\n",
       "    <tr>\n",
       "      <th>3</th>\n",
       "      <td>60182</td>\n",
       "      <td>Female</td>\n",
       "      <td>49.0</td>\n",
       "      <td>0</td>\n",
       "      <td>0</td>\n",
       "      <td>Yes</td>\n",
       "      <td>Private</td>\n",
       "      <td>Urban</td>\n",
       "      <td>171.23</td>\n",
       "      <td>34.4</td>\n",
       "      <td>smokes</td>\n",
       "      <td>1</td>\n",
       "    </tr>\n",
       "    <tr>\n",
       "      <th>4</th>\n",
       "      <td>1665</td>\n",
       "      <td>Female</td>\n",
       "      <td>79.0</td>\n",
       "      <td>1</td>\n",
       "      <td>0</td>\n",
       "      <td>Yes</td>\n",
       "      <td>Self-employed</td>\n",
       "      <td>Rural</td>\n",
       "      <td>174.12</td>\n",
       "      <td>24.0</td>\n",
       "      <td>never smoked</td>\n",
       "      <td>1</td>\n",
       "    </tr>\n",
       "    <tr>\n",
       "      <th>...</th>\n",
       "      <td>...</td>\n",
       "      <td>...</td>\n",
       "      <td>...</td>\n",
       "      <td>...</td>\n",
       "      <td>...</td>\n",
       "      <td>...</td>\n",
       "      <td>...</td>\n",
       "      <td>...</td>\n",
       "      <td>...</td>\n",
       "      <td>...</td>\n",
       "      <td>...</td>\n",
       "      <td>...</td>\n",
       "    </tr>\n",
       "    <tr>\n",
       "      <th>5105</th>\n",
       "      <td>18234</td>\n",
       "      <td>Female</td>\n",
       "      <td>80.0</td>\n",
       "      <td>1</td>\n",
       "      <td>0</td>\n",
       "      <td>Yes</td>\n",
       "      <td>Private</td>\n",
       "      <td>Urban</td>\n",
       "      <td>83.75</td>\n",
       "      <td>NaN</td>\n",
       "      <td>never smoked</td>\n",
       "      <td>0</td>\n",
       "    </tr>\n",
       "    <tr>\n",
       "      <th>5106</th>\n",
       "      <td>44873</td>\n",
       "      <td>Female</td>\n",
       "      <td>81.0</td>\n",
       "      <td>0</td>\n",
       "      <td>0</td>\n",
       "      <td>Yes</td>\n",
       "      <td>Self-employed</td>\n",
       "      <td>Urban</td>\n",
       "      <td>125.20</td>\n",
       "      <td>40.0</td>\n",
       "      <td>never smoked</td>\n",
       "      <td>0</td>\n",
       "    </tr>\n",
       "    <tr>\n",
       "      <th>5107</th>\n",
       "      <td>19723</td>\n",
       "      <td>Female</td>\n",
       "      <td>35.0</td>\n",
       "      <td>0</td>\n",
       "      <td>0</td>\n",
       "      <td>Yes</td>\n",
       "      <td>Self-employed</td>\n",
       "      <td>Rural</td>\n",
       "      <td>82.99</td>\n",
       "      <td>30.6</td>\n",
       "      <td>never smoked</td>\n",
       "      <td>0</td>\n",
       "    </tr>\n",
       "    <tr>\n",
       "      <th>5108</th>\n",
       "      <td>37544</td>\n",
       "      <td>Male</td>\n",
       "      <td>51.0</td>\n",
       "      <td>0</td>\n",
       "      <td>0</td>\n",
       "      <td>Yes</td>\n",
       "      <td>Private</td>\n",
       "      <td>Rural</td>\n",
       "      <td>166.29</td>\n",
       "      <td>25.6</td>\n",
       "      <td>formerly smoked</td>\n",
       "      <td>0</td>\n",
       "    </tr>\n",
       "    <tr>\n",
       "      <th>5109</th>\n",
       "      <td>44679</td>\n",
       "      <td>Female</td>\n",
       "      <td>44.0</td>\n",
       "      <td>0</td>\n",
       "      <td>0</td>\n",
       "      <td>Yes</td>\n",
       "      <td>Govt_job</td>\n",
       "      <td>Urban</td>\n",
       "      <td>85.28</td>\n",
       "      <td>26.2</td>\n",
       "      <td>Unknown</td>\n",
       "      <td>0</td>\n",
       "    </tr>\n",
       "  </tbody>\n",
       "</table>\n",
       "<p>5110 rows × 12 columns</p>\n",
       "</div>"
      ],
      "text/plain": [
       "         id  gender   age  hypertension  heart_disease ever_married  \\\n",
       "0      9046    Male  67.0             0              1          Yes   \n",
       "1     51676  Female  61.0             0              0          Yes   \n",
       "2     31112    Male  80.0             0              1          Yes   \n",
       "3     60182  Female  49.0             0              0          Yes   \n",
       "4      1665  Female  79.0             1              0          Yes   \n",
       "...     ...     ...   ...           ...            ...          ...   \n",
       "5105  18234  Female  80.0             1              0          Yes   \n",
       "5106  44873  Female  81.0             0              0          Yes   \n",
       "5107  19723  Female  35.0             0              0          Yes   \n",
       "5108  37544    Male  51.0             0              0          Yes   \n",
       "5109  44679  Female  44.0             0              0          Yes   \n",
       "\n",
       "          work_type Residence_type  avg_glucose_level   bmi   smoking_status  \\\n",
       "0           Private          Urban             228.69  36.6  formerly smoked   \n",
       "1     Self-employed          Rural             202.21   NaN     never smoked   \n",
       "2           Private          Rural             105.92  32.5     never smoked   \n",
       "3           Private          Urban             171.23  34.4           smokes   \n",
       "4     Self-employed          Rural             174.12  24.0     never smoked   \n",
       "...             ...            ...                ...   ...              ...   \n",
       "5105        Private          Urban              83.75   NaN     never smoked   \n",
       "5106  Self-employed          Urban             125.20  40.0     never smoked   \n",
       "5107  Self-employed          Rural              82.99  30.6     never smoked   \n",
       "5108        Private          Rural             166.29  25.6  formerly smoked   \n",
       "5109       Govt_job          Urban              85.28  26.2          Unknown   \n",
       "\n",
       "      stroke  \n",
       "0          1  \n",
       "1          1  \n",
       "2          1  \n",
       "3          1  \n",
       "4          1  \n",
       "...      ...  \n",
       "5105       0  \n",
       "5106       0  \n",
       "5107       0  \n",
       "5108       0  \n",
       "5109       0  \n",
       "\n",
       "[5110 rows x 12 columns]"
      ]
     },
     "execution_count": 91,
     "metadata": {},
     "output_type": "execute_result"
    }
   ],
   "source": [
    "data=pd.read_csv('healthcare-dataset-stroke-data.csv')\n",
    "data"
   ]
  },
  {
   "cell_type": "code",
   "execution_count": 92,
   "metadata": {},
   "outputs": [
    {
     "name": "stdout",
     "output_type": "stream",
     "text": [
      "no of rows : 5110\n",
      "no of columns : 12\n"
     ]
    }
   ],
   "source": [
    "print(f'no of rows : {data.shape[0]}')\n",
    "print(f'no of columns : {data.shape[1]}')"
   ]
  },
  {
   "cell_type": "markdown",
   "metadata": {},
   "source": [
    "*CHECKING NULL VALUES*"
   ]
  },
  {
   "cell_type": "code",
   "execution_count": 93,
   "metadata": {},
   "outputs": [
    {
     "name": "stdout",
     "output_type": "stream",
     "text": [
      "id                     0\n",
      "gender                 0\n",
      "age                    0\n",
      "hypertension           0\n",
      "heart_disease          0\n",
      "ever_married           0\n",
      "work_type              0\n",
      "Residence_type         0\n",
      "avg_glucose_level      0\n",
      "bmi                  201\n",
      "smoking_status         0\n",
      "stroke                 0\n",
      "dtype: int64\n",
      "data-shape: (5110, 12)\n"
     ]
    }
   ],
   "source": [
    "print(data.isnull().sum())\n",
    "print(f'data-shape: {data.shape}')"
   ]
  },
  {
   "cell_type": "markdown",
   "metadata": {},
   "source": [
    "*SINCE BMI CONTAIN SOME NAN VALUES SO REPLACING THE NAN VALUE WITH MEAN OF BMI FEATURE*"
   ]
  },
  {
   "cell_type": "code",
   "execution_count": 94,
   "metadata": {},
   "outputs": [
    {
     "name": "stdout",
     "output_type": "stream",
     "text": [
      "id                   0\n",
      "gender               0\n",
      "age                  0\n",
      "hypertension         0\n",
      "heart_disease        0\n",
      "ever_married         0\n",
      "work_type            0\n",
      "Residence_type       0\n",
      "avg_glucose_level    0\n",
      "bmi                  0\n",
      "smoking_status       0\n",
      "stroke               0\n",
      "dtype: int64\n"
     ]
    }
   ],
   "source": [
    "import math\n",
    "\n",
    "\n",
    "def average(data_,feature_):\n",
    "    sum_=0\n",
    "    count=0\n",
    "    #feature_='bmi'\n",
    "    for c in data_[feature_]:\n",
    "        if(not math.isnan(c)):\n",
    "            sum_=sum_+c\n",
    "            count+=1\n",
    "    return sum_ /count   \n",
    "\n",
    "def fillna(data,feature):\n",
    "    for i in range(len(data[feature])):\n",
    "        if(math.isnan(data[feature][i])) :\n",
    "            data[feature][i]=average(data,feature)\n",
    "\n",
    "\n",
    "fillna(data,'bmi')\n",
    "\n",
    "print(data.isnull().sum())\n"
   ]
  },
  {
   "cell_type": "code",
   "execution_count": 95,
   "metadata": {},
   "outputs": [
    {
     "data": {
      "text/plain": [
       "(array([2.115e+03, 0.000e+00, 0.000e+00, 0.000e+00, 0.000e+00, 2.994e+03,\n",
       "        0.000e+00, 0.000e+00, 0.000e+00, 1.000e+00]),\n",
       " array([0. , 0.2, 0.4, 0.6, 0.8, 1. , 1.2, 1.4, 1.6, 1.8, 2. ]),\n",
       " <a list of 10 Patch objects>)"
      ]
     },
     "execution_count": 95,
     "metadata": {},
     "output_type": "execute_result"
    },
    {
     "data": {
      "image/png": "[encoded data removed]",
      "text/plain": [
       "<Figure size 432x288 with 1 Axes>"
      ]
     },
     "metadata": {
      "needs_background": "light"
     },
     "output_type": "display_data"
    }
   ],
   "source": [
    "plt.hist(data.gender)"
   ]
  },
  {
   "cell_type": "code",
   "execution_count": null,
   "metadata": {},
   "outputs": [],
   "source": []
  },
  {
   "cell_type": "code",
   "execution_count": 96,
   "metadata": {},
   "outputs": [
    {
     "data": {
      "text/plain": [
       "(array([2925.,    0.,  819.,    0.,    0.,  657.,    0.,  687.,    0.,\n",
       "          22.]),\n",
       " array([0. , 0.4, 0.8, 1.2, 1.6, 2. , 2.4, 2.8, 3.2, 3.6, 4. ]),\n",
       " <a list of 10 Patch objects>)"
      ]
     },
     "execution_count": 96,
     "metadata": {},
     "output_type": "execute_result"
    },
    {
     "data": {
      "image/png": "[encoded data removed]",
      "text/plain": [
       "<Figure size 432x288 with 1 Axes>"
      ]
     },
     "metadata": {
      "needs_background": "light"
     },
     "output_type": "display_data"
    }
   ],
   "source": [
    "plt.hist(data['work_type'])"
   ]
  },
  {
   "cell_type": "code",
   "execution_count": 97,
   "metadata": {},
   "outputs": [
    {
     "data": {
      "text/plain": [
       "<matplotlib.axes._subplots.AxesSubplot at 0x7f17cd85f370>"
      ]
     },
     "execution_count": 97,
     "metadata": {},
     "output_type": "execute_result"
    },
    {
     "data": {
      "image/png": "[encoded data removed]",
      "text/plain": [
       "<Figure size 432x288 with 1 Axes>"
      ]
     },
     "metadata": {
      "needs_background": "light"
     },
     "output_type": "display_data"
    }
   ],
   "source": [
    "sns.countplot(data=data,x='work_type',hue='stroke')"
   ]
  },
  {
   "cell_type": "markdown",
   "metadata": {},
   "source": [
    "*FROM ABOVE GRAPH WE CAN OBSERVE THAT A LARGE NO. OF PEOPLE WORK IN PRIVATE SECTOR. AND THE PEOPLE WORKING IN PRIVATE HAVE HIGHER CHANCE OF STROKES*"
   ]
  },
  {
   "cell_type": "code",
   "execution_count": 98,
   "metadata": {},
   "outputs": [
    {
     "data": {
      "text/plain": [
       "(array([2596.,    0.,    0.,    0.,    0.,    0.,    0.,    0.,    0.,\n",
       "        2514.]),\n",
       " array([0. , 0.1, 0.2, 0.3, 0.4, 0.5, 0.6, 0.7, 0.8, 0.9, 1. ]),\n",
       " <a list of 10 Patch objects>)"
      ]
     },
     "execution_count": 98,
     "metadata": {},
     "output_type": "execute_result"
    },
    {
     "data": {
      "image/png": "[encoded data removed]",
      "text/plain": [
       "<Figure size 432x288 with 1 Axes>"
      ]
     },
     "metadata": {
      "needs_background": "light"
     },
     "output_type": "display_data"
    }
   ],
   "source": [
    "plt.hist(data.Residence_type)"
   ]
  },
  {
   "cell_type": "code",
   "execution_count": 99,
   "metadata": {},
   "outputs": [
    {
     "data": {
      "text/plain": [
       "<matplotlib.axes._subplots.AxesSubplot at 0x7f17cd7a90d0>"
      ]
     },
     "execution_count": 99,
     "metadata": {},
     "output_type": "execute_result"
    },
    {
     "data": {
      "image/png": "[encoded data removed]",
      "text/plain": [
       "<Figure size 432x288 with 1 Axes>"
      ]
     },
     "metadata": {
      "needs_background": "light"
     },
     "output_type": "display_data"
    }
   ],
   "source": [
    "sns.countplot(data=data,x='Residence_type',hue='stroke')"
   ]
  },
  {
   "cell_type": "markdown",
   "metadata": {},
   "source": [
    "*FROM THE ABOVE GRAPH WE INFER THAT ALMOST SAME NUMBER OF PEOPLE IN URBAN AND RULAR. ALSO PEPOPLE HAVING STROKES ARE ALMOST SAME*"
   ]
  },
  {
   "cell_type": "code",
   "execution_count": 100,
   "metadata": {},
   "outputs": [
    {
     "data": {
      "text/plain": [
       "<matplotlib.axes._subplots.AxesSubplot at 0x7f17cd77d640>"
      ]
     },
     "execution_count": 100,
     "metadata": {},
     "output_type": "execute_result"
    },
    {
     "data": {
      "image/png": "[encoded data removed]",
      "text/plain": [
       "<Figure size 432x288 with 1 Axes>"
      ]
     },
     "metadata": {
      "needs_background": "light"
     },
     "output_type": "display_data"
    }
   ],
   "source": [
    "sns.countplot(data=data,x='ever_married',hue='stroke')"
   ]
  },
  {
   "cell_type": "code",
   "execution_count": 101,
   "metadata": {},
   "outputs": [
    {
     "data": {
      "text/plain": [
       "<matplotlib.axes._subplots.AxesSubplot at 0x7f17cd740a30>"
      ]
     },
     "execution_count": 101,
     "metadata": {},
     "output_type": "execute_result"
    },
    {
     "data": {
      "image/png": "[encoded data removed]",
      "text/plain": [
       "<Figure size 1080x720 with 2 Axes>"
      ]
     },
     "metadata": {
      "needs_background": "light"
     },
     "output_type": "display_data"
    }
   ],
   "source": [
    "plt.figure(figsize=(15,10))\n",
    "sns.heatmap(data.corr(),annot=True,fmt='.2')"
   ]
  },
  {
   "cell_type": "markdown",
   "metadata": {},
   "source": [
    "*FROM ABOVE CORELATION MATRIX WE CAN SEE THAT BMI HAS VERY LESS ASSOCIATED WITH THE STROKE. ID IS SEEMS NOT USEFUL COLUMN.LIGHTER IS COLOR MORE IT IS CORELATED*"
   ]
  },
  {
   "cell_type": "code",
   "execution_count": 102,
   "metadata": {},
   "outputs": [
    {
     "name": "stdout",
     "output_type": "stream",
     "text": [
      "0    4861\n",
      "1     249\n",
      "Name: stroke, dtype: int64\n"
     ]
    },
    {
     "data": {
      "image/png": "[encoded data removed]",
      "text/plain": [
       "<Figure size 936x648 with 1 Axes>"
      ]
     },
     "metadata": {},
     "output_type": "display_data"
    }
   ],
   "source": [
    "count=data['stroke'].value_counts()\n",
    "label=['0','1']\n",
    "plt.figure(figsize=(13,9))\n",
    "plt.pie(count,labels=label)\n",
    "print(count)"
   ]
  },
  {
   "cell_type": "markdown",
   "metadata": {},
   "source": [
    "*SINCE DATA SEEMS TO BE IMBALANCE SO WE NEED TO HANDL THAT.*"
   ]
  },
  {
   "cell_type": "markdown",
   "metadata": {},
   "source": [
    "*DIFFERENT WAY TO HANDLE IMBALANCE DATA-:*<BR>\n",
    "1. OVERSAMPLING <BR>\n",
    "2. UNDERSAMPLING <BR>\n",
    "3. CHANGE PEERFORMANCE METRIC <BR>\n",
    "4. USE OF TREE BASED ALGORITHM\n",
    "\n",
    "\n"
   ]
  },
  {
   "cell_type": "markdown",
   "metadata": {},
   "source": [
    "* DROPPING THE IRRELEVENT COLOUMN "
   ]
  },
  {
   "cell_type": "code",
   "execution_count": 103,
   "metadata": {},
   "outputs": [],
   "source": [
    "data=data.drop(['id'],axis=1)"
   ]
  },
  {
   "cell_type": "markdown",
   "metadata": {},
   "source": [
    "* *LABELENCODDING THE CATEGORIAL DATA*"
   ]
  },
  {
   "cell_type": "code",
   "execution_count": 104,
   "metadata": {},
   "outputs": [
    {
     "data": {
      "text/html": [
       "<div>\n",
       "<style scoped>\n",
       "    .dataframe tbody tr th:only-of-type {\n",
       "        vertical-align: middle;\n",
       "    }\n",
       "\n",
       "    .dataframe tbody tr th {\n",
       "        vertical-align: top;\n",
       "    }\n",
       "\n",
       "    .dataframe thead th {\n",
       "        text-align: right;\n",
       "    }\n",
       "</style>\n",
       "<table border=\"1\" class=\"dataframe\">\n",
       "  <thead>\n",
       "    <tr style=\"text-align: right;\">\n",
       "      <th></th>\n",
       "      <th>gender</th>\n",
       "      <th>age</th>\n",
       "      <th>hypertension</th>\n",
       "      <th>heart_disease</th>\n",
       "      <th>ever_married</th>\n",
       "      <th>work_type</th>\n",
       "      <th>Residence_type</th>\n",
       "      <th>avg_glucose_level</th>\n",
       "      <th>bmi</th>\n",
       "      <th>smoking_status</th>\n",
       "      <th>stroke</th>\n",
       "    </tr>\n",
       "  </thead>\n",
       "  <tbody>\n",
       "    <tr>\n",
       "      <th>0</th>\n",
       "      <td>0.0</td>\n",
       "      <td>67.0</td>\n",
       "      <td>0</td>\n",
       "      <td>1</td>\n",
       "      <td>0</td>\n",
       "      <td>0</td>\n",
       "      <td>0</td>\n",
       "      <td>228.69</td>\n",
       "      <td>36.600000</td>\n",
       "      <td>0</td>\n",
       "      <td>1</td>\n",
       "    </tr>\n",
       "    <tr>\n",
       "      <th>1</th>\n",
       "      <td>1.0</td>\n",
       "      <td>61.0</td>\n",
       "      <td>0</td>\n",
       "      <td>0</td>\n",
       "      <td>0</td>\n",
       "      <td>1</td>\n",
       "      <td>1</td>\n",
       "      <td>202.21</td>\n",
       "      <td>28.893237</td>\n",
       "      <td>1</td>\n",
       "      <td>1</td>\n",
       "    </tr>\n",
       "    <tr>\n",
       "      <th>2</th>\n",
       "      <td>0.0</td>\n",
       "      <td>80.0</td>\n",
       "      <td>0</td>\n",
       "      <td>1</td>\n",
       "      <td>0</td>\n",
       "      <td>0</td>\n",
       "      <td>1</td>\n",
       "      <td>105.92</td>\n",
       "      <td>32.500000</td>\n",
       "      <td>1</td>\n",
       "      <td>1</td>\n",
       "    </tr>\n",
       "    <tr>\n",
       "      <th>3</th>\n",
       "      <td>1.0</td>\n",
       "      <td>49.0</td>\n",
       "      <td>0</td>\n",
       "      <td>0</td>\n",
       "      <td>0</td>\n",
       "      <td>0</td>\n",
       "      <td>0</td>\n",
       "      <td>171.23</td>\n",
       "      <td>34.400000</td>\n",
       "      <td>2</td>\n",
       "      <td>1</td>\n",
       "    </tr>\n",
       "    <tr>\n",
       "      <th>4</th>\n",
       "      <td>1.0</td>\n",
       "      <td>79.0</td>\n",
       "      <td>1</td>\n",
       "      <td>0</td>\n",
       "      <td>0</td>\n",
       "      <td>1</td>\n",
       "      <td>1</td>\n",
       "      <td>174.12</td>\n",
       "      <td>24.000000</td>\n",
       "      <td>1</td>\n",
       "      <td>1</td>\n",
       "    </tr>\n",
       "    <tr>\n",
       "      <th>...</th>\n",
       "      <td>...</td>\n",
       "      <td>...</td>\n",
       "      <td>...</td>\n",
       "      <td>...</td>\n",
       "      <td>...</td>\n",
       "      <td>...</td>\n",
       "      <td>...</td>\n",
       "      <td>...</td>\n",
       "      <td>...</td>\n",
       "      <td>...</td>\n",
       "      <td>...</td>\n",
       "    </tr>\n",
       "    <tr>\n",
       "      <th>5105</th>\n",
       "      <td>1.0</td>\n",
       "      <td>80.0</td>\n",
       "      <td>1</td>\n",
       "      <td>0</td>\n",
       "      <td>0</td>\n",
       "      <td>0</td>\n",
       "      <td>0</td>\n",
       "      <td>83.75</td>\n",
       "      <td>28.893237</td>\n",
       "      <td>1</td>\n",
       "      <td>0</td>\n",
       "    </tr>\n",
       "    <tr>\n",
       "      <th>5106</th>\n",
       "      <td>1.0</td>\n",
       "      <td>81.0</td>\n",
       "      <td>0</td>\n",
       "      <td>0</td>\n",
       "      <td>0</td>\n",
       "      <td>1</td>\n",
       "      <td>0</td>\n",
       "      <td>125.20</td>\n",
       "      <td>40.000000</td>\n",
       "      <td>1</td>\n",
       "      <td>0</td>\n",
       "    </tr>\n",
       "    <tr>\n",
       "      <th>5107</th>\n",
       "      <td>1.0</td>\n",
       "      <td>35.0</td>\n",
       "      <td>0</td>\n",
       "      <td>0</td>\n",
       "      <td>0</td>\n",
       "      <td>1</td>\n",
       "      <td>1</td>\n",
       "      <td>82.99</td>\n",
       "      <td>30.600000</td>\n",
       "      <td>1</td>\n",
       "      <td>0</td>\n",
       "    </tr>\n",
       "    <tr>\n",
       "      <th>5108</th>\n",
       "      <td>0.0</td>\n",
       "      <td>51.0</td>\n",
       "      <td>0</td>\n",
       "      <td>0</td>\n",
       "      <td>0</td>\n",
       "      <td>0</td>\n",
       "      <td>1</td>\n",
       "      <td>166.29</td>\n",
       "      <td>25.600000</td>\n",
       "      <td>0</td>\n",
       "      <td>0</td>\n",
       "    </tr>\n",
       "    <tr>\n",
       "      <th>5109</th>\n",
       "      <td>1.0</td>\n",
       "      <td>44.0</td>\n",
       "      <td>0</td>\n",
       "      <td>0</td>\n",
       "      <td>0</td>\n",
       "      <td>2</td>\n",
       "      <td>0</td>\n",
       "      <td>85.28</td>\n",
       "      <td>26.200000</td>\n",
       "      <td>3</td>\n",
       "      <td>0</td>\n",
       "    </tr>\n",
       "  </tbody>\n",
       "</table>\n",
       "<p>5110 rows × 11 columns</p>\n",
       "</div>"
      ],
      "text/plain": [
       "      gender   age  hypertension  heart_disease  ever_married  work_type  \\\n",
       "0        0.0  67.0             0              1             0          0   \n",
       "1        1.0  61.0             0              0             0          1   \n",
       "2        0.0  80.0             0              1             0          0   \n",
       "3        1.0  49.0             0              0             0          0   \n",
       "4        1.0  79.0             1              0             0          1   \n",
       "...      ...   ...           ...            ...           ...        ...   \n",
       "5105     1.0  80.0             1              0             0          0   \n",
       "5106     1.0  81.0             0              0             0          1   \n",
       "5107     1.0  35.0             0              0             0          1   \n",
       "5108     0.0  51.0             0              0             0          0   \n",
       "5109     1.0  44.0             0              0             0          2   \n",
       "\n",
       "      Residence_type  avg_glucose_level        bmi  smoking_status  stroke  \n",
       "0                  0             228.69  36.600000               0       1  \n",
       "1                  1             202.21  28.893237               1       1  \n",
       "2                  1             105.92  32.500000               1       1  \n",
       "3                  0             171.23  34.400000               2       1  \n",
       "4                  1             174.12  24.000000               1       1  \n",
       "...              ...                ...        ...             ...     ...  \n",
       "5105               0              83.75  28.893237               1       0  \n",
       "5106               0             125.20  40.000000               1       0  \n",
       "5107               1              82.99  30.600000               1       0  \n",
       "5108               1             166.29  25.600000               0       0  \n",
       "5109               0              85.28  26.200000               3       0  \n",
       "\n",
       "[5110 rows x 11 columns]"
      ]
     },
     "execution_count": 104,
     "metadata": {},
     "output_type": "execute_result"
    }
   ],
   "source": [
    "\n",
    "data.gender=data.gender.map({'Male':0,'Female':1})\n",
    "data.Residence_type=data.Residence_type.map({'Urban':0,'Rural':1})\n",
    "data.smoking_status=data.smoking_status.map({'formerly smoked':0,'never smoked':1,'smokes':2,'Unknown':3})\n",
    "data.ever_married=data.ever_married.map({'Yes':0,'No':1})\n",
    "data.work_type=data.work_type.map({'Private':0,'Self-employed':1,'Govt_job':2,'children':3,'Never_worked':4})\n",
    "data"
   ]
  },
  {
   "cell_type": "markdown",
   "metadata": {},
   "source": [
    "*SPLITTING THE DATA INTO TRAIN TEST*"
   ]
  },
  {
   "cell_type": "code",
   "execution_count": 105,
   "metadata": {},
   "outputs": [],
   "source": [
    "\n",
    "def train_test_split(data):\n",
    "    shuffled_data=data.sample(frac=1)\n",
    "    train_size=int(0.7*len(data))\n",
    "    train=shuffled_data[:train_size]\n",
    "    test=shuffled_data[train_size:]\n",
    "    return train,test\n",
    "\n",
    "train,test=train_test_split(data)  "
   ]
  },
  {
   "cell_type": "markdown",
   "metadata": {},
   "source": [
    "*DIVIDING DATA INTO FEATURES AND LABEL*"
   ]
  },
  {
   "cell_type": "code",
   "execution_count": 106,
   "metadata": {},
   "outputs": [],
   "source": [
    "X_train=train.iloc[:,:-1].values\n",
    "y_train=train.iloc[:,-1:].values\n",
    "X_test=test.iloc[:,:-1].values\n",
    "y_test=test.iloc[:,-1:]\n"
   ]
  },
  {
   "cell_type": "markdown",
   "metadata": {},
   "source": [
    "*IMPLEMENTING RANDOMFOREST FROM SCRATCH*"
   ]
  },
  {
   "cell_type": "markdown",
   "metadata": {},
   "source": [
    "INITIALIZE THE NODE THRESHOLD, LEFT ,RIGHT, VALUE,FEATURE.<BR>\n",
    "INITIALIZE THE DECISIONTREE MAX_DEPTH,MIN_SAMPLE_SPLIT,N_FEATS<BR>\n",
    "DEFINED BEST CRITERIA SPLIT METHOD TO SPLIT THE COLUMN FEATURE<BR>\n",
    "DEFINDED MAKE_TREE TO CREATE LEFT AND RIGHT CHILD WITH BASE CASE 'depth>=self.max_depth or n_labels==1 or n_sample greater than self.min_sample_split' AND RETURN NODE<BR>\n",
    "TRAVERSE METHOD IS USED TO TRAVEL LEFT AND RIGHT SUBTREES.<br>\n",
    "CALCULATE PARENT NODE'S ENTROPY <br>\n",
    "CALCULATE THE ENTROPY OF EACH INDIVIDUAL NODE IN THE SPLIT AND THE WEIGHTED AVERAGE OF ALL SUB-NODE.<br>\n",
    "INFORMATION GAIN IS DIFFERENCE BETWEEN A PARENT AND A SUB-NODE<br>\n",
    "\n",
    "\n",
    "\n",
    "\n"
   ]
  },
  {
   "cell_type": "code",
   "execution_count": 107,
   "metadata": {},
   "outputs": [],
   "source": [
    "def entropy(y):\n",
    "   unique, counts = np.unique(y, return_counts=True)\n",
    "   pb=counts/len(y)\n",
    "   sum=-1*np.sum([p*np.log2(p) for p in pb if p>0])\n",
    "\n",
    "   return sum\n"
   ]
  },
  {
   "cell_type": "code",
   "execution_count": 108,
   "metadata": {},
   "outputs": [],
   "source": [
    "unique, counts = np.unique(y_train, return_counts=True)"
   ]
  },
  {
   "cell_type": "code",
   "execution_count": 109,
   "metadata": {},
   "outputs": [],
   "source": [
    "class Node:\n",
    "    def __init__(self,feature=None,threshold=None,left=None,right=None,value=None):\n",
    "        self.feature=feature\n",
    "        self.threshold=threshold\n",
    "        self.left=left\n",
    "        self.right=right\n",
    "        self.value=value\n",
    "\n",
    "    def isLeafNode(self):\n",
    "        return self.value is not None\n",
    "\n",
    "\n",
    "class DecisionTree:\n",
    "    def __init__(self,min_sample_split=2,max_depth=100,n_feats=None):\n",
    "        self.min_sample_split=min_sample_split\n",
    "        self.max_depth=max_depth\n",
    "        self.n_feats=None\n",
    "\n",
    "    def most_common_label(self,List):\n",
    "        List=list(List)\n",
    "        counter = 0\n",
    "        num = List[0]\n",
    "     \n",
    "        for i in List:\n",
    "            curr_frequency = List.count(i)\n",
    "            if(curr_frequency> counter):\n",
    "                counter = curr_frequency\n",
    "                num = i\n",
    " \n",
    "        return num\n",
    "\n",
    "\n",
    "    def traverse(self,x,Node):\n",
    "        if Node.isLeafNode():\n",
    "            return Node.value\n",
    "        if x[Node.feature]<=Node.threshold:\n",
    "            return self.traverse(x,Node.left)\n",
    "            \n",
    "        return self.traverse(x,Node.right)\n",
    "\n",
    "\n",
    "    def split(self,X_column,split_thresh):\n",
    "        left_idxs=[]\n",
    "        for i in range(len(X_column)):\n",
    "            if X_column[i]<=split_thresh:\n",
    "                left_idxs.append(i)\n",
    "        right_idxs=[]\n",
    "        for j in range(len(X_column)):\n",
    "            if X_column[j]>split_thresh:\n",
    "                right_idxs.append(j)\n",
    "       \n",
    "\n",
    "        return np.array(left_idxs), np.array(right_idxs)\n",
    "\n",
    "    def information_gain(self,y,X_column,split_thresh):\n",
    "        parent_entropy=entropy(y)\n",
    "        left_idxs,right_idxs=self.split(X_column,split_thresh)\n",
    "        if( len(left_idxs)==0 or len(right_idxs)==0):\n",
    "            return 0\n",
    "        n=len(y)\n",
    "        nl,nr=len(left_idxs),len(right_idxs)\n",
    "        el,er=entropy(y[left_idxs]),entropy(y[right_idxs])\n",
    "        child_entropy=(nl/n)*el + (nr/n)*er\n",
    "        ig=parent_entropy-child_entropy\n",
    "        return ig\n",
    "\n",
    "\n",
    "\n",
    "    def best_criteria(self,X,y,feat_indxs):\n",
    "        best_gain=-1\n",
    "        split_idx=None\n",
    "        split_thres=None\n",
    "        for feat_idx in feat_indxs:\n",
    "            X_column=X[:,feat_idx]\n",
    "            thresholds=np.unique(X_column)\n",
    "            for threshold in thresholds:\n",
    "                gain=self.information_gain(y,X_column,threshold)\n",
    "                if gain>best_gain:\n",
    "                    best_gain=gain\n",
    "                    split_idx=feat_idx\n",
    "                    split_thres=threshold\n",
    "        return split_idx,split_thres            \n",
    "\n",
    "\n",
    "    def make_tree(self,x,y,depth=0):\n",
    "        n_sample,n_feature=x.shape\n",
    "        n_labels=len(np.unique(y))\n",
    "\n",
    "        if(depth>=self.max_depth or n_labels==1 or n_sample<self.min_sample_split):\n",
    "            leaf_value=self.most_common_label(y)\n",
    "            return Node(value=leaf_value)\n",
    "\n",
    "        feat_idxs=np.random.choice(n_feature,self.n_feats,replace=False)\n",
    "        best_feat, best_thresh = self.best_criteria(x, y, feat_idxs)\n",
    "        left_idxs, right_idxs = self.split(x[:, best_feat], best_thresh)\n",
    "        left = self.make_tree(x[left_idxs, :], y[left_idxs], depth+1)\n",
    "        right = self.make_tree(x[right_idxs, :], y[right_idxs], depth+1)\n",
    "        return Node(best_feat, best_thresh, left, right)\n",
    "\n",
    "    def fit(self,x,y):\n",
    "        if not self.n_feats:\n",
    "            self.n_feats=x.shape[1]\n",
    "        else:\n",
    "            self.n_feats=min(self.n_feats,x.shape[1])\n",
    "\n",
    "        self.root=self.make_tree(x,y)\n",
    "\n",
    "    def predict(self, X):\n",
    "        return np.array([self.traverse(x, self.root) for x in X])\n",
    "\n"
   ]
  },
  {
   "cell_type": "code",
   "execution_count": 110,
   "metadata": {},
   "outputs": [],
   "source": [
    "\n",
    "\n",
    "class RandomForest:\n",
    "    def __init__(self,n_trees=10,min_sample_spilt=2,max_depth=100,n_feat=None):\n",
    "        self.n_trees=n_trees\n",
    "        self.min_sample_split=min_sample_spilt\n",
    "        self.max_depth=max_depth\n",
    "        self.n_feat=n_feat\n",
    "        self.trees=[]\n",
    "    \n",
    "    def bootstrap(self,x,y):\n",
    "        n_sample=x.shape[0]\n",
    "        index=np.random.choice(n_sample,n_sample,replace=True)\n",
    "        return x[index],y[index]\n",
    "\n",
    "    def fit(self,x,y):\n",
    "        self.trees=[]\n",
    "        for _ in range(self.n_trees):\n",
    "            tree=DecisionTree(min_sample_split=self.min_sample_split,max_depth=self.max_depth,n_feats=self.n_feat)\n",
    "            x_samp,y_samp=self.bootstrap(x,y)\n",
    "            tree.fit(x_samp,y_samp)\n",
    "            self.trees.append(tree)\n",
    "\n",
    "    def predict(self,x):\n",
    "        tree_preds=np.array([tree.predict(x) for tree in self.trees])\n",
    "        tree_preds = np.swapaxes(tree_preds, 0, 1)\n",
    "        y_pred = [self.most_common_label(tree_pred) for tree_pred in tree_preds]\n",
    "        return np.array(y_pred)\n",
    "\n",
    "\n",
    "    def most_common_label(self,List):\n",
    "        List=list(List)\n",
    "        counter = 0\n",
    "        num = List[0]\n",
    "     \n",
    "        for i in List:\n",
    "            curr_frequency = List.count(i)\n",
    "            if(curr_frequency> counter):\n",
    "                counter = curr_frequency\n",
    "                num = i\n",
    " \n",
    "        return num\n",
    "        \n"
   ]
  },
  {
   "cell_type": "code",
   "execution_count": 111,
   "metadata": {},
   "outputs": [],
   "source": [
    "model1=DecisionTree(max_depth=5)\n",
    "model1.fit(X_train,y_train)\n",
    "pred1=model1.predict(X_test)"
   ]
  },
  {
   "cell_type": "code",
   "execution_count": 112,
   "metadata": {},
   "outputs": [],
   "source": [
    "pred1=pred1.reshape(1,-1)[0]\n",
    "y_test=y_test.values.reshape(1,-1)[0]\n"
   ]
  },
  {
   "cell_type": "code",
   "execution_count": 113,
   "metadata": {},
   "outputs": [],
   "source": [
    "def accuracy(pred,y_test):\n",
    "    return np.sum(pred==y_test)/len(y_test)"
   ]
  },
  {
   "cell_type": "code",
   "execution_count": 114,
   "metadata": {},
   "outputs": [
    {
     "data": {
      "text/plain": [
       "0.9419439008480104"
      ]
     },
     "execution_count": 114,
     "metadata": {},
     "output_type": "execute_result"
    }
   ],
   "source": [
    "accuracy(pred1,y_test)"
   ]
  },
  {
   "cell_type": "code",
   "execution_count": 115,
   "metadata": {},
   "outputs": [],
   "source": [
    "model=RandomForest(max_depth=20)\n",
    "model.fit(X_train,y_train)\n",
    "predict=model.predict(X_test)"
   ]
  },
  {
   "cell_type": "code",
   "execution_count": 116,
   "metadata": {},
   "outputs": [
    {
     "data": {
      "text/plain": [
       "0.9406392694063926"
      ]
     },
     "execution_count": 116,
     "metadata": {},
     "output_type": "execute_result"
    }
   ],
   "source": [
    "predict=predict.reshape(1,-1)[0]\n",
    "accuracy(predict,y_test)"
   ]
  },
  {
   "cell_type": "markdown",
   "metadata": {},
   "source": [
    "ALGORITHM<BR>\n",
    "DEFINE THE CLASS LOGISTICREGRESSION<BR>\n",
    "INSTANITATE LOGISTICREGRESSION ATTRIBUTE LEARNING_RATE,ITERATIONS,X,Y,BIAS ,WEIGHT AND THRESHOLD.<BR>\n",
    "DEFINDED METHOD UPDATE_WEIGHT .<BR>\n",
    "FOR EACH ITERATION IN UPDATE_WEIGHT ,CALCULTE GRADIENT DECENT AND UPDATE WEIGHT<BR>\n",
    "DEFINING THE METHOD PREDICT  TO GET THE PREDICTED Y ON UPDATED WEIGHT AND BIAS"
   ]
  },
  {
   "cell_type": "markdown",
   "metadata": {},
   "source": [
    "*IMPLEMENTING LOGISTICREGRESSION FROM SCRATCH*"
   ]
  },
  {
   "cell_type": "code",
   "execution_count": 117,
   "metadata": {},
   "outputs": [],
   "source": [
    "\n",
    "class LogisticRegression:\n",
    "    def __init__( self, learning_rate, iterations,X,Y) :        \n",
    "        self.learning_rate = learning_rate        \n",
    "        self.iterations = iterations\n",
    "        self.X=X\n",
    "        self.Y=Y\n",
    "        self.b=0\n",
    "        self.m=X.shape[0]\n",
    "        self.n=X.shape[1]\n",
    "        self.W=np.zeros(X_train.shape[1])\n",
    "        self.thres=0.5\n",
    "\n",
    "    def fit(self):\n",
    "        self.update_weight()\n",
    "        return self\n",
    "\n",
    "\n",
    "    def update_weight(self): \n",
    "  \n",
    "        \n",
    "        for i in range(self.iterations):  \n",
    "            A = 1 / ( 1 + np.exp( - ( self.X.dot( self.W ) + self.b ) ) )      \n",
    "            tmp = ( A - self.Y.T )\n",
    "            tmp=tmp.reshape(self.m)           \n",
    "            dW = np.dot( self.X.T, tmp ) / self.m         \n",
    "            db = np.sum( tmp ) / self.m \n",
    "          \n",
    "  \n",
    "            self.W -= self.learning_rate * dW    \n",
    "            self.b -= self.learning_rate * db\n",
    "        \n",
    "        return self \n",
    "        \n",
    "    def predict( self, X ) :\n",
    "      \n",
    "\n",
    "        Z = 1 / ( 1 + np.exp( - ( X.dot( self.W ) + self.b ) ) )\n",
    "        Y=[]\n",
    "\n",
    "        for c in Z:\n",
    "            if c>self.thres:\n",
    "                Y.append(1)\n",
    "            else:\n",
    "                Y.append(0)          \n",
    "        return np.array(Y)"
   ]
  },
  {
   "cell_type": "code",
   "execution_count": 118,
   "metadata": {},
   "outputs": [],
   "source": [
    "model_=LogisticRegression(learning_rate=0.1,iterations=100,X=X_train,Y=y_train)\n",
    "model_.fit()\n",
    "pred__=model_.predict(X_test)"
   ]
  },
  {
   "cell_type": "code",
   "execution_count": 119,
   "metadata": {},
   "outputs": [
    {
     "data": {
      "text/plain": [
       "0.9452054794520548"
      ]
     },
     "execution_count": 119,
     "metadata": {},
     "output_type": "execute_result"
    }
   ],
   "source": [
    "accuracy(pred__,y_test)"
   ]
  },
  {
   "cell_type": "markdown",
   "metadata": {},
   "source": [
    "*IMPLEMENT SVM FROM SCRATCH*"
   ]
  },
  {
   "cell_type": "code",
   "execution_count": 120,
   "metadata": {},
   "outputs": [],
   "source": [
    "class SVM:\n",
    "    def __init__(self,learning_rate,iteration,lambda_param,X,Y):\n",
    "        self.learning_rate=learning_rate\n",
    "        self.iteration=iteration\n",
    "        self.w=np.zeros(X_train.shape[1])\n",
    "        self.lambda_param=lambda_param\n",
    "        self.b=0\n",
    "        self.X=X\n",
    "        self.Y=Y\n",
    "        self.m=X.shape[0]\n",
    "        self.n=X.shape[1]\n",
    "\n",
    "    def fit(self):\n",
    "        y=np.where(self.Y<=0,-1,1)\n",
    "        for i in range(self.iteration):\n",
    "            for idx,x in enumerate(self.X):\n",
    "                condition=y[idx]*(np.dot(x,self.w)-self.b)>=1\n",
    "                if condition==True:\n",
    "                    self.w-=self.learning_rate*(2*self.lambda_param*self.w)\n",
    "                else:\n",
    "                    self.w-=self.learning_rate*(2*self.lambda_param*self.w)\n",
    "                    self.b-=self.learning_rate*y[idx]\n",
    "\n",
    "    def predict(self,X):\n",
    "        app=np.dot(X,self.w)-self.b\n",
    "        return np.sign(app)\n",
    "\n",
    "\n",
    "new_y=np.where(y_train==0,-1,1)\n",
    "clf=SVM(learning_rate=0.001,iteration=1000,lambda_param=0.01,X=X_train,Y=new_y)\n",
    "predict2=clf.predict(X_test)\n",
    "\n",
    "\n",
    "        \n",
    "\n",
    "        "
   ]
  },
  {
   "cell_type": "code",
   "execution_count": 121,
   "metadata": {},
   "outputs": [
    {
     "data": {
      "text/plain": [
       "0.9452054794520548"
      ]
     },
     "execution_count": 121,
     "metadata": {},
     "output_type": "execute_result"
    }
   ],
   "source": [
    "\n",
    "accuracy(predict2,y_test)"
   ]
  },
  {
   "cell_type": "code",
   "execution_count": 122,
   "metadata": {},
   "outputs": [],
   "source": [
    "def confusion_matrix(y_test,y_pred):\n",
    "  classes=np.unique(y_test)\n",
    "  confusion_matrx=[[0 for i in range(len(classes))] for j in range(len(classes))] \n",
    "\n",
    "\n",
    "  for i in range(len(classes)):\n",
    "    for j in range(len(classes)):\n",
    "      confusion_matrx[i][j]=sum(y_pred[y_test==classes[i]]==classes[j])\n",
    "  return confusion_matrx"
   ]
  },
  {
   "cell_type": "code",
   "execution_count": 123,
   "metadata": {},
   "outputs": [
    {
     "data": {
      "text/plain": [
       "[[1443, 6], [83, 1]]"
      ]
     },
     "execution_count": 123,
     "metadata": {},
     "output_type": "execute_result"
    }
   ],
   "source": [
    "confusion_matrix(y_test,pred1)"
   ]
  },
  {
   "cell_type": "code",
   "execution_count": 124,
   "metadata": {},
   "outputs": [],
   "source": [
    "def compute(y_test,y_pred):\n",
    "  TP=sum(y_pred[y_test==1]==1)\n",
    "  FP=sum(y_pred[y_test==0]==1)\n",
    "  TN=sum(y_pred[y_test==0]==0)\n",
    "  FN=sum(y_pred[y_test==1]==0)\n",
    "  return TP,FP,TN,FN"
   ]
  },
  {
   "cell_type": "markdown",
   "metadata": {},
   "source": [
    "*FOR DECISIONTREE*"
   ]
  },
  {
   "cell_type": "code",
   "execution_count": 132,
   "metadata": {},
   "outputs": [
    {
     "data": {
      "text/plain": [
       "(1, 6, 1443, 83)"
      ]
     },
     "execution_count": 132,
     "metadata": {},
     "output_type": "execute_result"
    }
   ],
   "source": [
    "compute(y_test,pred1)"
   ]
  },
  {
   "cell_type": "markdown",
   "metadata": {},
   "source": [
    "*FOR RANDOMFOREST*"
   ]
  },
  {
   "cell_type": "code",
   "execution_count": 126,
   "metadata": {},
   "outputs": [
    {
     "data": {
      "text/plain": [
       "(3, 10, 1439, 81)"
      ]
     },
     "execution_count": 126,
     "metadata": {},
     "output_type": "execute_result"
    }
   ],
   "source": [
    "compute(y_test,predict)"
   ]
  },
  {
   "cell_type": "markdown",
   "metadata": {},
   "source": [
    "*FOR LOGISTICREGRESSION*"
   ]
  },
  {
   "cell_type": "code",
   "execution_count": 127,
   "metadata": {},
   "outputs": [
    {
     "data": {
      "text/plain": [
       "(0, 0, 1449, 84)"
      ]
     },
     "execution_count": 127,
     "metadata": {},
     "output_type": "execute_result"
    }
   ],
   "source": [
    "compute(y_test,pred__)"
   ]
  },
  {
   "cell_type": "markdown",
   "metadata": {},
   "source": [
    "*FOR SVM*"
   ]
  },
  {
   "cell_type": "code",
   "execution_count": 128,
   "metadata": {},
   "outputs": [
    {
     "data": {
      "text/plain": [
       "(0, 0, 1449, 84)"
      ]
     },
     "execution_count": 128,
     "metadata": {},
     "output_type": "execute_result"
    }
   ],
   "source": [
    "compute(y_test,predict2)"
   ]
  }
 ],
 "metadata": {
  "interpreter": {
   "hash": "31f2aee4e71d21fbe5cf8b01ff0e069b9275f58929596ceb00d14d90e3e16cd6"
  },
  "kernelspec": {
   "display_name": "Python 3.8.10 64-bit",
   "language": "python",
   "name": "python3"
  },
  "language_info": {
   "codemirror_mode": {
    "name": "ipython",
    "version": 3
   },
   "file_extension": ".py",
   "mimetype": "text/x-python",
   "name": "python",
   "nbconvert_exporter": "python",
   "pygments_lexer": "ipython3",
   "version": "3.8.10"
  },
  "orig_nbformat": 4
 },
 "nbformat": 4,
 "nbformat_minor": 2
}
